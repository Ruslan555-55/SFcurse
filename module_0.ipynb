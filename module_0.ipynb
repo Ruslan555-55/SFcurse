import numpy as np
import numpy        

def game_core_v2(number):
    count=1
    number = int(np.random.randint(1,101))
    num_1=[]
    for i in range(1,101):
        num_1.append(i)
    num=1
    while number != num:
        median=int(numpy.median(num_1))
        if median == number:
            count+=1
            num=median
            break
        if number < median:
            count+=1
            num_1=list(filter(lambda n: n<(median+1), num_1))
               
            if len(num_1)<=7:  
                for num in num_1:
                    count+=1
                    if num == number:
                        count+=1
                        break 
                break            
        if number > median:
            count+=1
            num_1=list(filter(lambda n: n>(median-1), num_1))
                  
            if len(num_1)<=8:  
                for num in num_1:
                    count+=1
                    if num == number:
                        count+=1
                        break 
                break        
    count+=1
    
def score_game(game_core):
    count_ls= []
    np.random.seed(1)
    random_array = np.random.randint(1,101, size=(1000))
    for j in random_array:
        count_ls.append(game_core(j))
    score = int(np.mean(count_ls))
    print(f"Алгоритм угадывает число в среднем за {score} попыток")
    return(score)

score_game(game_core_v2)
