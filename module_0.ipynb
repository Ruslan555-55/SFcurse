import numpy as np
import numpy        

def game_core_v2(number):
    count=1    #Счетчик
    num_1=[]
    for i in range(1,101):
        num_1.append(i)  # Создаем начальный список от 1 до 100
    num=1
    while number != num:
        median=int(numpy.median(num_1))  # Находим медиану списка
        if median == number:    # Проверка равенства медианы с искомым числом
            count+=1
            num=median
            break
        if number < median:   # Для числа меньше половины списка
            count+=1
            num_1=list(filter(lambda n: n<(median+1), num_1)) #обрезаем список пополам и присваиваем меньшую сторону
               
            if len(num_1)<=7:  # Условие если в списке осталось <= 7 чисел
                for num in num_1:   # Перебираем оставшиеся числа
                    count+=1
                    if num == number:
                        count+=1
                        break 
                break            
        if number > median:  # Для числа больше половины списка
            count+=1
            num_1=list(filter(lambda n: n>(median-1), num_1))
                  
            if len(num_1)<=8:  
                for num in num_1:
                    count+=1
                    if num == number:
                        count+=1
                        break 
                break        
    count+=1
    
def score_game(game_core):  #Проверяем алгоритм 1000 раз и находим среднее значение попыток 
    count_ls= []
    np.random.seed(1)
    random_array = np.random.randint(1,101, size=(1000))
    for j in random_array:
        count_ls.append(game_core(j))
    score = int(np.mean(count_ls))
    print(f"Алгоритм угадывает число в среднем за {score} попыток")
    return(score)

score_game(game_core_v2)
